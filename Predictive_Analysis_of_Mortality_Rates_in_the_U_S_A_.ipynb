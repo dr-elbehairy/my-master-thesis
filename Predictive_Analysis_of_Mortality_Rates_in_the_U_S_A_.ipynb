{
  "nbformat": 4,
  "nbformat_minor": 0,
  "metadata": {
    "colab": {
      "provenance": []
    },
    "kernelspec": {
      "name": "python3",
      "display_name": "Python 3"
    },
    "language_info": {
      "name": "python"
    }
  },
  "cells": [
    {
      "cell_type": "markdown",
      "source": [
        "# **Leveraging Artificial Intelligence and Actuarial Science for Predictive Analysis of Mortality Rates in the U.S.A. Insurance Sector A Data-Driven Approach**"
      ],
      "metadata": {
        "id": "3XDNwcE63e9M"
      }
    },
    {
      "cell_type": "markdown",
      "source": [
        "## overview\n",
        "\n",
        "- The purpose of this research was to create a machine learning model that could forecast mortality rates for USA Insurance Sector using historical mortality rates from 1933 to 2021. The given dataset includes the mortality rates for men and female. The goal was to predict the moertality rates for men and female representing on each other with high accuracy using ARIMA and LSTM."
      ],
      "metadata": {
        "id": "iBPdP8oM3v00"
      }
    },
    {
      "cell_type": "markdown",
      "source": [
        "## key highlights:\n",
        "\n",
        "- The Data utilized the Daily mortality rates for the USA Insurance sector - The model built is a fully connected ARIMA & LSTM , designed specifically to predict the mortality rates.\n",
        "- Early stopping with a patience of 10 epochs was employed to prevent overfitting, ensuring the model generalizes well to unseen data.\n",
        "- A comprehensive exploratory data analysis (EDA) was conducted to understand data trends and relationships.\n",
        "- The model was evaluated using suitable regression metrics, including MAE, MSE, RMSE, and R-squared, providing a multi-faceted view of its performance."
      ],
      "metadata": {
        "id": "f8nhjefg4AaL"
      }
    },
    {
      "cell_type": "markdown",
      "source": [
        "## Conttents:\n",
        "\n",
        "1. Business probleme.    \n",
        "2. Importing the libraries.      \n",
        "3. Load the Data set.    \n",
        "4. Data Exploration and preprocessing.   \n",
        "5. ARIMA.\n",
        "    \n",
        "    5.1. Splitting the dataset as a time serios data.    \n",
        "    5.2. Training the ARIMA model.           \n",
        "    5.3. Evaluate the training model performance.       \n",
        "    5.4. ARIMA Model Evaluation.        \n",
        "    5.5. Calculate MAE, MSE, RMSE, and R-squared\n",
        "\n",
        "6. LTSM.\n",
        "    \n",
        "    6.1. preprocessing the dataset.    \n",
        "    6.2. Splitting the dataset.           \n",
        "    6.3. creating sequances.       \n",
        "    6.4. Training the LSTM model.\n",
        "    6.5. Evaluate the LSTM model performance       \n",
        "    6.6. Model Evaluatio Calculate MAE, MSE, RMSE, and R-squared\n",
        "    \n",
        "7. Predictions and visualize for the best model.\n",
        "8. Conclusion."
      ],
      "metadata": {
        "id": "6UyfJXx3vgRQ"
      }
    },
    {
      "cell_type": "markdown",
      "source": [
        "## 1- Business probleme:\n",
        "\n",
        "\n",
        "---\n",
        "The research problem addressed in this study can be summarized as follows:\n",
        "1. Impact of Health Improvements: Rapid advancements in healthcare and medical technologies can significantly alter mortality trends, making it difficult to predict future rates accurately.\n",
        "2. Data Complexity and Accuracy: Forecasting mortality rates requires accurate and comprehensive data. The complexity and variability of data sources, which may include census data, healthcare records, and insurance claims data, present their own challenges in terms of accuracy and completeness.\n",
        "\n",
        "\n",
        "Data Set, which is available at web site ( https://drive.google.com/file/d/1oZ2hT8HVuRbjZ3Q2yRouuykGOe-8l7Z-/view?usp=drive_link )\n",
        "\n",
        "and ( https://www.kaggle.com/datasets/drmoustafaelbehairy/usa-mortality-rates-1933-2021/data?select=Daily+USA+mortality+rates+1933-2021.csv )"
      ],
      "metadata": {
        "id": "c3FP2Mlkv32e"
      }
    },
    {
      "cell_type": "markdown",
      "source": [
        "## 2. Importing the libraries:\n",
        "\n",
        "---\n",
        "\n"
      ],
      "metadata": {
        "id": "3AXRL1qgzCeJ"
      }
    },
    {
      "cell_type": "code",
      "source": [
        "import pandas as pd\n",
        "import matplotlib.pyplot as plt\n",
        "import plotly.graph_objects as go\n",
        "import numpy as np\n",
        "import statsmodels.tsa.arima.model\n",
        "import tensorflow as tf\n",
        "import seaborn as sns\n",
        "import statsmodels.tsa.seasonal\n",
        "import sklearn.preprocessing\n",
        "import sklearn.model_selection\n",
        "import tensorflow.keras.models\n",
        "import tensorflow.keras.layers\n",
        "import tensorflow.keras.callbacks\n",
        "import keras.preprocessing.sequence\n",
        "import keras.models\n",
        "import keras.layers\n",
        "import sklearn.metrics"
      ],
      "metadata": {
        "id": "xOUYEh9m9KU_"
      },
      "execution_count": 1,
      "outputs": []
    },
    {
      "cell_type": "markdown",
      "source": [
        "## 3- Loading the data set\n",
        "\n",
        "---\n",
        "\n"
      ],
      "metadata": {
        "id": "y__W2jKLgmTX"
      }
    },
    {
      "cell_type": "code",
      "source": [
        "! pip install gdown"
      ],
      "metadata": {
        "colab": {
          "base_uri": "https://localhost:8080/"
        },
        "id": "reVfvIhT2WIX",
        "outputId": "bba0abaa-f0df-4404-f067-38233b6897eb"
      },
      "execution_count": 2,
      "outputs": [
        {
          "output_type": "stream",
          "name": "stdout",
          "text": [
            "Requirement already satisfied: gdown in /usr/local/lib/python3.10/dist-packages (4.7.3)\n",
            "Requirement already satisfied: filelock in /usr/local/lib/python3.10/dist-packages (from gdown) (3.13.4)\n",
            "Requirement already satisfied: requests[socks] in /usr/local/lib/python3.10/dist-packages (from gdown) (2.31.0)\n",
            "Requirement already satisfied: six in /usr/local/lib/python3.10/dist-packages (from gdown) (1.16.0)\n",
            "Requirement already satisfied: tqdm in /usr/local/lib/python3.10/dist-packages (from gdown) (4.66.2)\n",
            "Requirement already satisfied: beautifulsoup4 in /usr/local/lib/python3.10/dist-packages (from gdown) (4.12.3)\n",
            "Requirement already satisfied: soupsieve>1.2 in /usr/local/lib/python3.10/dist-packages (from beautifulsoup4->gdown) (2.5)\n",
            "Requirement already satisfied: charset-normalizer<4,>=2 in /usr/local/lib/python3.10/dist-packages (from requests[socks]->gdown) (3.3.2)\n",
            "Requirement already satisfied: idna<4,>=2.5 in /usr/local/lib/python3.10/dist-packages (from requests[socks]->gdown) (3.6)\n",
            "Requirement already satisfied: urllib3<3,>=1.21.1 in /usr/local/lib/python3.10/dist-packages (from requests[socks]->gdown) (2.0.7)\n",
            "Requirement already satisfied: certifi>=2017.4.17 in /usr/local/lib/python3.10/dist-packages (from requests[socks]->gdown) (2024.2.2)\n",
            "Requirement already satisfied: PySocks!=1.5.7,>=1.5.6 in /usr/local/lib/python3.10/dist-packages (from requests[socks]->gdown) (1.7.1)\n"
          ]
        }
      ]
    },
    {
      "cell_type": "code",
      "source": [
        "!gdown https://drive.google.com/uc?id=1oZ2hT8HVuRbjZ3Q2yRouuykGOe-8l7Z-\n"
      ],
      "metadata": {
        "colab": {
          "base_uri": "https://localhost:8080/"
        },
        "id": "avIbHMD-gKeM",
        "outputId": "1aa6fe19-c122-477a-ad02-c2f18f16a35a"
      },
      "execution_count": 3,
      "outputs": [
        {
          "output_type": "stream",
          "name": "stdout",
          "text": [
            "Downloading...\n",
            "From (original): https://drive.google.com/uc?id=1oZ2hT8HVuRbjZ3Q2yRouuykGOe-8l7Z-\n",
            "From (redirected): https://drive.google.com/uc?id=1oZ2hT8HVuRbjZ3Q2yRouuykGOe-8l7Z-&confirm=t&uuid=2866b855-36e5-48d4-8862-68dd1a508a09\n",
            "To: /content/Daily USA mortality rates 1933 - 2021 .csv\n",
            "100% 161M/161M [00:01<00:00, 138MB/s]\n"
          ]
        }
      ]
    },
    {
      "cell_type": "code",
      "source": [
        "data = pd.read_csv('/content/Daily USA mortality rates 1933 - 2021 .csv')\n",
        "data"
      ],
      "metadata": {
        "colab": {
          "base_uri": "https://localhost:8080/",
          "height": 424
        },
        "id": "eYdE5pWKfsH3",
        "outputId": "0a77f626-d7fd-404b-ab69-dd158f84a11c"
      },
      "execution_count": 4,
      "outputs": [
        {
          "output_type": "execute_result",
          "data": {
            "text/plain": [
              "         Unnamed: 0        Date  Age  Female_daily  Male_daily  Total_daily\n",
              "0                 0  1933-01-01   30      0.000010    0.000012     0.000011\n",
              "1                 1  1933-01-02   30      0.000010    0.000012     0.000011\n",
              "2                 2  1933-01-03   30      0.000010    0.000012     0.000011\n",
              "3                 3  1933-01-04   30      0.000010    0.000012     0.000011\n",
              "4                 4  1933-01-05   30      0.000010    0.000012     0.000011\n",
              "...             ...         ...  ...           ...         ...          ...\n",
              "1820387     1820387  2021-12-27   85      0.000224    0.000300     0.000255\n",
              "1820388     1820388  2021-12-28   85      0.000224    0.000300     0.000255\n",
              "1820389     1820389  2021-12-29   85      0.000224    0.000300     0.000255\n",
              "1820390     1820390  2021-12-30   85      0.000224    0.000300     0.000255\n",
              "1820391     1820391  2021-12-31   85      0.000224    0.000300     0.000255\n",
              "\n",
              "[1820392 rows x 6 columns]"
            ],
            "text/html": [
              "\n",
              "  <div id=\"df-6e34b7d1-c333-422e-9415-b7ef09d8dca0\" class=\"colab-df-container\">\n",
              "    <div>\n",
              "<style scoped>\n",
              "    .dataframe tbody tr th:only-of-type {\n",
              "        vertical-align: middle;\n",
              "    }\n",
              "\n",
              "    .dataframe tbody tr th {\n",
              "        vertical-align: top;\n",
              "    }\n",
              "\n",
              "    .dataframe thead th {\n",
              "        text-align: right;\n",
              "    }\n",
              "</style>\n",
              "<table border=\"1\" class=\"dataframe\">\n",
              "  <thead>\n",
              "    <tr style=\"text-align: right;\">\n",
              "      <th></th>\n",
              "      <th>Unnamed: 0</th>\n",
              "      <th>Date</th>\n",
              "      <th>Age</th>\n",
              "      <th>Female_daily</th>\n",
              "      <th>Male_daily</th>\n",
              "      <th>Total_daily</th>\n",
              "    </tr>\n",
              "  </thead>\n",
              "  <tbody>\n",
              "    <tr>\n",
              "      <th>0</th>\n",
              "      <td>0</td>\n",
              "      <td>1933-01-01</td>\n",
              "      <td>30</td>\n",
              "      <td>0.000010</td>\n",
              "      <td>0.000012</td>\n",
              "      <td>0.000011</td>\n",
              "    </tr>\n",
              "    <tr>\n",
              "      <th>1</th>\n",
              "      <td>1</td>\n",
              "      <td>1933-01-02</td>\n",
              "      <td>30</td>\n",
              "      <td>0.000010</td>\n",
              "      <td>0.000012</td>\n",
              "      <td>0.000011</td>\n",
              "    </tr>\n",
              "    <tr>\n",
              "      <th>2</th>\n",
              "      <td>2</td>\n",
              "      <td>1933-01-03</td>\n",
              "      <td>30</td>\n",
              "      <td>0.000010</td>\n",
              "      <td>0.000012</td>\n",
              "      <td>0.000011</td>\n",
              "    </tr>\n",
              "    <tr>\n",
              "      <th>3</th>\n",
              "      <td>3</td>\n",
              "      <td>1933-01-04</td>\n",
              "      <td>30</td>\n",
              "      <td>0.000010</td>\n",
              "      <td>0.000012</td>\n",
              "      <td>0.000011</td>\n",
              "    </tr>\n",
              "    <tr>\n",
              "      <th>4</th>\n",
              "      <td>4</td>\n",
              "      <td>1933-01-05</td>\n",
              "      <td>30</td>\n",
              "      <td>0.000010</td>\n",
              "      <td>0.000012</td>\n",
              "      <td>0.000011</td>\n",
              "    </tr>\n",
              "    <tr>\n",
              "      <th>...</th>\n",
              "      <td>...</td>\n",
              "      <td>...</td>\n",
              "      <td>...</td>\n",
              "      <td>...</td>\n",
              "      <td>...</td>\n",
              "      <td>...</td>\n",
              "    </tr>\n",
              "    <tr>\n",
              "      <th>1820387</th>\n",
              "      <td>1820387</td>\n",
              "      <td>2021-12-27</td>\n",
              "      <td>85</td>\n",
              "      <td>0.000224</td>\n",
              "      <td>0.000300</td>\n",
              "      <td>0.000255</td>\n",
              "    </tr>\n",
              "    <tr>\n",
              "      <th>1820388</th>\n",
              "      <td>1820388</td>\n",
              "      <td>2021-12-28</td>\n",
              "      <td>85</td>\n",
              "      <td>0.000224</td>\n",
              "      <td>0.000300</td>\n",
              "      <td>0.000255</td>\n",
              "    </tr>\n",
              "    <tr>\n",
              "      <th>1820389</th>\n",
              "      <td>1820389</td>\n",
              "      <td>2021-12-29</td>\n",
              "      <td>85</td>\n",
              "      <td>0.000224</td>\n",
              "      <td>0.000300</td>\n",
              "      <td>0.000255</td>\n",
              "    </tr>\n",
              "    <tr>\n",
              "      <th>1820390</th>\n",
              "      <td>1820390</td>\n",
              "      <td>2021-12-30</td>\n",
              "      <td>85</td>\n",
              "      <td>0.000224</td>\n",
              "      <td>0.000300</td>\n",
              "      <td>0.000255</td>\n",
              "    </tr>\n",
              "    <tr>\n",
              "      <th>1820391</th>\n",
              "      <td>1820391</td>\n",
              "      <td>2021-12-31</td>\n",
              "      <td>85</td>\n",
              "      <td>0.000224</td>\n",
              "      <td>0.000300</td>\n",
              "      <td>0.000255</td>\n",
              "    </tr>\n",
              "  </tbody>\n",
              "</table>\n",
              "<p>1820392 rows × 6 columns</p>\n",
              "</div>\n",
              "    <div class=\"colab-df-buttons\">\n",
              "\n",
              "  <div class=\"colab-df-container\">\n",
              "    <button class=\"colab-df-convert\" onclick=\"convertToInteractive('df-6e34b7d1-c333-422e-9415-b7ef09d8dca0')\"\n",
              "            title=\"Convert this dataframe to an interactive table.\"\n",
              "            style=\"display:none;\">\n",
              "\n",
              "  <svg xmlns=\"http://www.w3.org/2000/svg\" height=\"24px\" viewBox=\"0 -960 960 960\">\n",
              "    <path d=\"M120-120v-720h720v720H120Zm60-500h600v-160H180v160Zm220 220h160v-160H400v160Zm0 220h160v-160H400v160ZM180-400h160v-160H180v160Zm440 0h160v-160H620v160ZM180-180h160v-160H180v160Zm440 0h160v-160H620v160Z\"/>\n",
              "  </svg>\n",
              "    </button>\n",
              "\n",
              "  <style>\n",
              "    .colab-df-container {\n",
              "      display:flex;\n",
              "      gap: 12px;\n",
              "    }\n",
              "\n",
              "    .colab-df-convert {\n",
              "      background-color: #E8F0FE;\n",
              "      border: none;\n",
              "      border-radius: 50%;\n",
              "      cursor: pointer;\n",
              "      display: none;\n",
              "      fill: #1967D2;\n",
              "      height: 32px;\n",
              "      padding: 0 0 0 0;\n",
              "      width: 32px;\n",
              "    }\n",
              "\n",
              "    .colab-df-convert:hover {\n",
              "      background-color: #E2EBFA;\n",
              "      box-shadow: 0px 1px 2px rgba(60, 64, 67, 0.3), 0px 1px 3px 1px rgba(60, 64, 67, 0.15);\n",
              "      fill: #174EA6;\n",
              "    }\n",
              "\n",
              "    .colab-df-buttons div {\n",
              "      margin-bottom: 4px;\n",
              "    }\n",
              "\n",
              "    [theme=dark] .colab-df-convert {\n",
              "      background-color: #3B4455;\n",
              "      fill: #D2E3FC;\n",
              "    }\n",
              "\n",
              "    [theme=dark] .colab-df-convert:hover {\n",
              "      background-color: #434B5C;\n",
              "      box-shadow: 0px 1px 3px 1px rgba(0, 0, 0, 0.15);\n",
              "      filter: drop-shadow(0px 1px 2px rgba(0, 0, 0, 0.3));\n",
              "      fill: #FFFFFF;\n",
              "    }\n",
              "  </style>\n",
              "\n",
              "    <script>\n",
              "      const buttonEl =\n",
              "        document.querySelector('#df-6e34b7d1-c333-422e-9415-b7ef09d8dca0 button.colab-df-convert');\n",
              "      buttonEl.style.display =\n",
              "        google.colab.kernel.accessAllowed ? 'block' : 'none';\n",
              "\n",
              "      async function convertToInteractive(key) {\n",
              "        const element = document.querySelector('#df-6e34b7d1-c333-422e-9415-b7ef09d8dca0');\n",
              "        const dataTable =\n",
              "          await google.colab.kernel.invokeFunction('convertToInteractive',\n",
              "                                                    [key], {});\n",
              "        if (!dataTable) return;\n",
              "\n",
              "        const docLinkHtml = 'Like what you see? Visit the ' +\n",
              "          '<a target=\"_blank\" href=https://colab.research.google.com/notebooks/data_table.ipynb>data table notebook</a>'\n",
              "          + ' to learn more about interactive tables.';\n",
              "        element.innerHTML = '';\n",
              "        dataTable['output_type'] = 'display_data';\n",
              "        await google.colab.output.renderOutput(dataTable, element);\n",
              "        const docLink = document.createElement('div');\n",
              "        docLink.innerHTML = docLinkHtml;\n",
              "        element.appendChild(docLink);\n",
              "      }\n",
              "    </script>\n",
              "  </div>\n",
              "\n",
              "\n",
              "<div id=\"df-47ec2f1d-f2d0-42a7-b61b-bcda72bf9ba6\">\n",
              "  <button class=\"colab-df-quickchart\" onclick=\"quickchart('df-47ec2f1d-f2d0-42a7-b61b-bcda72bf9ba6')\"\n",
              "            title=\"Suggest charts\"\n",
              "            style=\"display:none;\">\n",
              "\n",
              "<svg xmlns=\"http://www.w3.org/2000/svg\" height=\"24px\"viewBox=\"0 0 24 24\"\n",
              "     width=\"24px\">\n",
              "    <g>\n",
              "        <path d=\"M19 3H5c-1.1 0-2 .9-2 2v14c0 1.1.9 2 2 2h14c1.1 0 2-.9 2-2V5c0-1.1-.9-2-2-2zM9 17H7v-7h2v7zm4 0h-2V7h2v10zm4 0h-2v-4h2v4z\"/>\n",
              "    </g>\n",
              "</svg>\n",
              "  </button>\n",
              "\n",
              "<style>\n",
              "  .colab-df-quickchart {\n",
              "      --bg-color: #E8F0FE;\n",
              "      --fill-color: #1967D2;\n",
              "      --hover-bg-color: #E2EBFA;\n",
              "      --hover-fill-color: #174EA6;\n",
              "      --disabled-fill-color: #AAA;\n",
              "      --disabled-bg-color: #DDD;\n",
              "  }\n",
              "\n",
              "  [theme=dark] .colab-df-quickchart {\n",
              "      --bg-color: #3B4455;\n",
              "      --fill-color: #D2E3FC;\n",
              "      --hover-bg-color: #434B5C;\n",
              "      --hover-fill-color: #FFFFFF;\n",
              "      --disabled-bg-color: #3B4455;\n",
              "      --disabled-fill-color: #666;\n",
              "  }\n",
              "\n",
              "  .colab-df-quickchart {\n",
              "    background-color: var(--bg-color);\n",
              "    border: none;\n",
              "    border-radius: 50%;\n",
              "    cursor: pointer;\n",
              "    display: none;\n",
              "    fill: var(--fill-color);\n",
              "    height: 32px;\n",
              "    padding: 0;\n",
              "    width: 32px;\n",
              "  }\n",
              "\n",
              "  .colab-df-quickchart:hover {\n",
              "    background-color: var(--hover-bg-color);\n",
              "    box-shadow: 0 1px 2px rgba(60, 64, 67, 0.3), 0 1px 3px 1px rgba(60, 64, 67, 0.15);\n",
              "    fill: var(--button-hover-fill-color);\n",
              "  }\n",
              "\n",
              "  .colab-df-quickchart-complete:disabled,\n",
              "  .colab-df-quickchart-complete:disabled:hover {\n",
              "    background-color: var(--disabled-bg-color);\n",
              "    fill: var(--disabled-fill-color);\n",
              "    box-shadow: none;\n",
              "  }\n",
              "\n",
              "  .colab-df-spinner {\n",
              "    border: 2px solid var(--fill-color);\n",
              "    border-color: transparent;\n",
              "    border-bottom-color: var(--fill-color);\n",
              "    animation:\n",
              "      spin 1s steps(1) infinite;\n",
              "  }\n",
              "\n",
              "  @keyframes spin {\n",
              "    0% {\n",
              "      border-color: transparent;\n",
              "      border-bottom-color: var(--fill-color);\n",
              "      border-left-color: var(--fill-color);\n",
              "    }\n",
              "    20% {\n",
              "      border-color: transparent;\n",
              "      border-left-color: var(--fill-color);\n",
              "      border-top-color: var(--fill-color);\n",
              "    }\n",
              "    30% {\n",
              "      border-color: transparent;\n",
              "      border-left-color: var(--fill-color);\n",
              "      border-top-color: var(--fill-color);\n",
              "      border-right-color: var(--fill-color);\n",
              "    }\n",
              "    40% {\n",
              "      border-color: transparent;\n",
              "      border-right-color: var(--fill-color);\n",
              "      border-top-color: var(--fill-color);\n",
              "    }\n",
              "    60% {\n",
              "      border-color: transparent;\n",
              "      border-right-color: var(--fill-color);\n",
              "    }\n",
              "    80% {\n",
              "      border-color: transparent;\n",
              "      border-right-color: var(--fill-color);\n",
              "      border-bottom-color: var(--fill-color);\n",
              "    }\n",
              "    90% {\n",
              "      border-color: transparent;\n",
              "      border-bottom-color: var(--fill-color);\n",
              "    }\n",
              "  }\n",
              "</style>\n",
              "\n",
              "  <script>\n",
              "    async function quickchart(key) {\n",
              "      const quickchartButtonEl =\n",
              "        document.querySelector('#' + key + ' button');\n",
              "      quickchartButtonEl.disabled = true;  // To prevent multiple clicks.\n",
              "      quickchartButtonEl.classList.add('colab-df-spinner');\n",
              "      try {\n",
              "        const charts = await google.colab.kernel.invokeFunction(\n",
              "            'suggestCharts', [key], {});\n",
              "      } catch (error) {\n",
              "        console.error('Error during call to suggestCharts:', error);\n",
              "      }\n",
              "      quickchartButtonEl.classList.remove('colab-df-spinner');\n",
              "      quickchartButtonEl.classList.add('colab-df-quickchart-complete');\n",
              "    }\n",
              "    (() => {\n",
              "      let quickchartButtonEl =\n",
              "        document.querySelector('#df-47ec2f1d-f2d0-42a7-b61b-bcda72bf9ba6 button');\n",
              "      quickchartButtonEl.style.display =\n",
              "        google.colab.kernel.accessAllowed ? 'block' : 'none';\n",
              "    })();\n",
              "  </script>\n",
              "</div>\n",
              "\n",
              "  <div id=\"id_f6151966-1c5d-4374-a442-d043e72a1baf\">\n",
              "    <style>\n",
              "      .colab-df-generate {\n",
              "        background-color: #E8F0FE;\n",
              "        border: none;\n",
              "        border-radius: 50%;\n",
              "        cursor: pointer;\n",
              "        display: none;\n",
              "        fill: #1967D2;\n",
              "        height: 32px;\n",
              "        padding: 0 0 0 0;\n",
              "        width: 32px;\n",
              "      }\n",
              "\n",
              "      .colab-df-generate:hover {\n",
              "        background-color: #E2EBFA;\n",
              "        box-shadow: 0px 1px 2px rgba(60, 64, 67, 0.3), 0px 1px 3px 1px rgba(60, 64, 67, 0.15);\n",
              "        fill: #174EA6;\n",
              "      }\n",
              "\n",
              "      [theme=dark] .colab-df-generate {\n",
              "        background-color: #3B4455;\n",
              "        fill: #D2E3FC;\n",
              "      }\n",
              "\n",
              "      [theme=dark] .colab-df-generate:hover {\n",
              "        background-color: #434B5C;\n",
              "        box-shadow: 0px 1px 3px 1px rgba(0, 0, 0, 0.15);\n",
              "        filter: drop-shadow(0px 1px 2px rgba(0, 0, 0, 0.3));\n",
              "        fill: #FFFFFF;\n",
              "      }\n",
              "    </style>\n",
              "    <button class=\"colab-df-generate\" onclick=\"generateWithVariable('data')\"\n",
              "            title=\"Generate code using this dataframe.\"\n",
              "            style=\"display:none;\">\n",
              "\n",
              "  <svg xmlns=\"http://www.w3.org/2000/svg\" height=\"24px\"viewBox=\"0 0 24 24\"\n",
              "       width=\"24px\">\n",
              "    <path d=\"M7,19H8.4L18.45,9,17,7.55,7,17.6ZM5,21V16.75L18.45,3.32a2,2,0,0,1,2.83,0l1.4,1.43a1.91,1.91,0,0,1,.58,1.4,1.91,1.91,0,0,1-.58,1.4L9.25,21ZM18.45,9,17,7.55Zm-12,3A5.31,5.31,0,0,0,4.9,8.1,5.31,5.31,0,0,0,1,6.5,5.31,5.31,0,0,0,4.9,4.9,5.31,5.31,0,0,0,6.5,1,5.31,5.31,0,0,0,8.1,4.9,5.31,5.31,0,0,0,12,6.5,5.46,5.46,0,0,0,6.5,12Z\"/>\n",
              "  </svg>\n",
              "    </button>\n",
              "    <script>\n",
              "      (() => {\n",
              "      const buttonEl =\n",
              "        document.querySelector('#id_f6151966-1c5d-4374-a442-d043e72a1baf button.colab-df-generate');\n",
              "      buttonEl.style.display =\n",
              "        google.colab.kernel.accessAllowed ? 'block' : 'none';\n",
              "\n",
              "      buttonEl.onclick = () => {\n",
              "        google.colab.notebook.generateWithVariable('data');\n",
              "      }\n",
              "      })();\n",
              "    </script>\n",
              "  </div>\n",
              "\n",
              "    </div>\n",
              "  </div>\n"
            ],
            "application/vnd.google.colaboratory.intrinsic+json": {
              "type": "dataframe",
              "variable_name": "data"
            }
          },
          "metadata": {},
          "execution_count": 4
        }
      ]
    },
    {
      "cell_type": "markdown",
      "source": [
        "## 4. Data Exploration and preprocessing\n",
        "\n",
        "---\n",
        "\n"
      ],
      "metadata": {
        "id": "yAOfrKShzSwH"
      }
    },
    {
      "cell_type": "markdown",
      "source": [
        "Initial inspection to provide a foundational understanding of the dataset so we can:\n",
        "\n",
        "*   Let the 'Year' is a datetime type and create a numerical year column\n",
        "*   Let the data is sorted by date to maintain chronological order\n",
        "*   viewing the first few rows to grasp data structure and anomalies\n",
        "*   checking data types for proper formatting\n",
        "*   checking missing values to assess data quality\n",
        "*   generating basic statistics to understand distributions and detect outliers.\n"
      ],
      "metadata": {
        "id": "upG-irpt2yd6"
      }
    },
    {
      "cell_type": "code",
      "source": [
        "data['Date'] = pd.to_datetime(data['Date'])"
      ],
      "metadata": {
        "id": "azut5Td2GYy2"
      },
      "execution_count": 5,
      "outputs": []
    },
    {
      "cell_type": "code",
      "source": [
        "data.sort_values('Date', inplace=True)"
      ],
      "metadata": {
        "id": "bPThkWiprDPc"
      },
      "execution_count": 6,
      "outputs": []
    },
    {
      "cell_type": "code",
      "source": [
        "initial_inspection = {\n",
        "    \"First 5 Rows\": data.head(),\n",
        "    \"Data Types\": data.dtypes,\n",
        "    \"Missing Values\": data.isnull().sum(),\n",
        "    \"Basic Statistics\": data.describe()\n",
        "}\n",
        "\n",
        "initial_inspection\n"
      ],
      "metadata": {
        "colab": {
          "base_uri": "https://localhost:8080/"
        },
        "id": "8vpAnq-njLkj",
        "outputId": "5fb0bddf-e70a-4061-93f8-b67009ca18d6"
      },
      "execution_count": 7,
      "outputs": [
        {
          "output_type": "execute_result",
          "data": {
            "text/plain": [
              "{'First 5 Rows':          Unnamed: 0       Date  Age  Female_daily  Male_daily  Total_daily\n",
              " 0                 0 1933-01-01   30      0.000010    0.000012     0.000011\n",
              " 1072731     1072731 1933-01-01   63      0.000072    0.000093     0.000083\n",
              " 1105238     1105238 1933-01-01   64      0.000077    0.000098     0.000088\n",
              " 195042       195042 1933-01-01   36      0.000014    0.000016     0.000015\n",
              " 1137745     1137745 1933-01-01   65      0.000082    0.000103     0.000093,\n",
              " 'Data Types': Unnamed: 0               int64\n",
              " Date            datetime64[ns]\n",
              " Age                      int64\n",
              " Female_daily           float64\n",
              " Male_daily             float64\n",
              " Total_daily            float64\n",
              " dtype: object,\n",
              " 'Missing Values': Unnamed: 0      0\n",
              " Date            0\n",
              " Age             0\n",
              " Female_daily    0\n",
              " Male_daily      0\n",
              " Total_daily     0\n",
              " dtype: int64,\n",
              " 'Basic Statistics':          Unnamed: 0                           Date           Age  \\\n",
              " count  1.820392e+06                        1820392  1.820392e+06   \n",
              " mean   9.101955e+05  1977-07-02 00:00:00.000000032  5.750000e+01   \n",
              " min    0.000000e+00            1933-01-01 00:00:00  3.000000e+01   \n",
              " 25%    4.550978e+05            1955-04-02 00:00:00  4.375000e+01   \n",
              " 50%    9.101955e+05            1977-07-02 00:00:00  5.750000e+01   \n",
              " 75%    1.365293e+06            1999-10-02 00:00:00  7.125000e+01   \n",
              " max    1.820391e+06            2021-12-31 00:00:00  8.500000e+01   \n",
              " std    5.255020e+05                            NaN  1.616323e+01   \n",
              " \n",
              "        Female_daily    Male_daily   Total_daily  \n",
              " count  1.820392e+06  1.820392e+06  1.820392e+06  \n",
              " mean   6.126156e-05  9.017271e-05  7.375716e-05  \n",
              " min    1.643837e-06  3.512335e-06  2.600003e-06  \n",
              " 25%    8.057567e-06  1.286036e-05  1.046033e-05  \n",
              " 50%    2.379754e-05  4.170224e-05  3.276492e-05  \n",
              " 75%    7.823868e-05  1.263039e-04  9.992006e-05  \n",
              " max    4.879629e-04  5.620675e-04  5.207492e-04  \n",
              " std    8.313612e-05  1.093855e-04  9.314566e-05  }"
            ]
          },
          "metadata": {},
          "execution_count": 7
        }
      ]
    },
    {
      "cell_type": "code",
      "execution_count": 8,
      "metadata": {
        "colab": {
          "base_uri": "https://localhost:8080/"
        },
        "id": "Wzw7EOFzP4y2",
        "outputId": "c2f0eab0-610d-46c5-ac97-8ded464b7cce"
      },
      "outputs": [
        {
          "output_type": "stream",
          "name": "stdout",
          "text": [
            "Unnamed: 0               int64\n",
            "Date            datetime64[ns]\n",
            "Age                      int64\n",
            "Female_daily           float64\n",
            "Male_daily             float64\n",
            "Total_daily            float64\n",
            "dtype: object\n"
          ]
        }
      ],
      "source": [
        "print(data.dtypes)"
      ]
    },
    {
      "cell_type": "code",
      "execution_count": 9,
      "metadata": {
        "id": "cs5bjtTeKES8",
        "colab": {
          "base_uri": "https://localhost:8080/"
        },
        "outputId": "26c5cc00-b231-467c-ed23-1127c7715349"
      },
      "outputs": [
        {
          "output_type": "stream",
          "name": "stdout",
          "text": [
            "Unnamed: 0      0\n",
            "Date            0\n",
            "Age             0\n",
            "Female_daily    0\n",
            "Male_daily      0\n",
            "Total_daily     0\n",
            "dtype: int64\n"
          ]
        }
      ],
      "source": [
        "data['Date'].fillna(data['Date'].mean(), inplace=True)\n",
        "data['Age'].fillna(data['Age'].mean(), inplace=True)\n",
        "data['Male_daily'].fillna(data['Male_daily'].mean(), inplace=True)\n",
        "data['Female_daily'].fillna(data['Female_daily'].mean(), inplace=True)\n",
        "data['Total_daily'].fillna(data['Total_daily'].mean(), inplace=True)\n",
        "missing_values = data.isnull().sum()\n",
        "print(missing_values)"
      ]
    },
    {
      "cell_type": "code",
      "source": [
        "data.dropna(inplace=True)"
      ],
      "metadata": {
        "id": "hnEK4LZJT_KI"
      },
      "execution_count": 10,
      "outputs": []
    },
    {
      "cell_type": "markdown",
      "source": [
        "## 5- ARIMA"
      ],
      "metadata": {
        "id": "jsX-1HrBHcwM"
      }
    },
    {
      "cell_type": "markdown",
      "source": [
        "## 5.1. Splitting the dataset as a time serios data:\n",
        "\n",
        "---\n",
        "\n",
        "\n",
        "\n",
        "- Calculate the indices for splitting\n",
        "- i split the data as time serios splitting becouse so we have more accridabilty in our predictions.\n",
        "- and Check for missing values in the exogenous variable ('Male_daily'&'Female_daily) across all splits."
      ],
      "metadata": {
        "id": "ZkLU-sl2kPF_"
      }
    },
    {
      "cell_type": "code",
      "source": [
        "train_size = int(len(data) * 0.8)\n",
        "validate_size = int(len(data) * 0.1)\n",
        "test_size = len(data) - train_size - validate_size\n",
        "\n",
        "\n",
        "train = data.iloc[:train_size]\n",
        "validate = data.iloc[train_size:train_size+validate_size]\n",
        "test = data.iloc[train_size+validate_size:]\n"
      ],
      "metadata": {
        "id": "jDbWPIx9rhkP"
      },
      "execution_count": 11,
      "outputs": []
    },
    {
      "cell_type": "code",
      "source": [
        "missing_values = {\n",
        "    \"train_missing\": train['Male_daily'].isnull().sum(),\n",
        "    \"validate_missing\": validate['Male_daily'].isnull().sum(),\n",
        "    \"test_missing\": test['Male_daily'].isnull().sum()\n",
        "}\n",
        "\n",
        "missing_values\n"
      ],
      "metadata": {
        "colab": {
          "base_uri": "https://localhost:8080/"
        },
        "id": "S3-Snv_ddhaP",
        "outputId": "9db25104-4cc2-460d-bea3-fb1bfb4e5d7c"
      },
      "execution_count": 12,
      "outputs": [
        {
          "output_type": "execute_result",
          "data": {
            "text/plain": [
              "{'train_missing': 0, 'validate_missing': 0, 'test_missing': 0}"
            ]
          },
          "metadata": {},
          "execution_count": 12
        }
      ]
    },
    {
      "cell_type": "code",
      "source": [
        "missing_values = {\n",
        "    \"train_missing\": train['Female_daily'].isnull().sum(),\n",
        "    \"validate_missing\": validate['Female_daily'].isnull().sum(),\n",
        "    \"test_missing\": test['Female_daily'].isnull().sum()\n",
        "}\n",
        "\n",
        "missing_values\n"
      ],
      "metadata": {
        "colab": {
          "base_uri": "https://localhost:8080/"
        },
        "id": "5Ie2EGRLdiyF",
        "outputId": "bf68cf38-2cd0-4b6b-9a83-156b89365cf4"
      },
      "execution_count": 13,
      "outputs": [
        {
          "output_type": "execute_result",
          "data": {
            "text/plain": [
              "{'train_missing': 0, 'validate_missing': 0, 'test_missing': 0}"
            ]
          },
          "metadata": {},
          "execution_count": 13
        }
      ]
    },
    {
      "cell_type": "markdown",
      "source": [],
      "metadata": {
        "id": "X9ZxCKAKUZ0N"
      }
    },
    {
      "cell_type": "markdown",
      "source": [
        "## 5.2. Training the ARIMA model\n",
        "\n",
        "---\n",
        "- Prepare exogenous variables (male_daily) for all sets for (Female_daily)\n",
        "- Train the model on the training set\n"
      ],
      "metadata": {
        "id": "YK1IsJWhUqf0"
      }
    },
    {
      "cell_type": "code",
      "source": [
        "exog_vars_train = train[[ 'Male_daily']]\n",
        "exog_vars_validate = validate[[ 'Male_daily']]\n",
        "exog_vars_test = test[[ 'Male_daily']]\n",
        "exog_vars_test.dropna(inplace=True)\n",
        "\n",
        "model = statsmodels.tsa.arima.model.ARIMA(train['Female_daily'], exog=exog_vars_train, order=(1, 1, 1))\n",
        "model_fit = model.fit()"
      ],
      "metadata": {
        "colab": {
          "base_uri": "https://localhost:8080/"
        },
        "id": "_JtpivxsUsGO",
        "outputId": "5a66489a-e8e7-4211-f853-727b6d8fe601"
      },
      "execution_count": 14,
      "outputs": [
        {
          "output_type": "stream",
          "name": "stderr",
          "text": [
            "<ipython-input-14-f098eb3826f2>:4: SettingWithCopyWarning: \n",
            "A value is trying to be set on a copy of a slice from a DataFrame\n",
            "\n",
            "See the caveats in the documentation: https://pandas.pydata.org/pandas-docs/stable/user_guide/indexing.html#returning-a-view-versus-a-copy\n",
            "  exog_vars_test.dropna(inplace=True)\n",
            "/usr/local/lib/python3.10/dist-packages/statsmodels/tsa/base/tsa_model.py:473: ValueWarning: An unsupported index was provided and will be ignored when e.g. forecasting.\n",
            "  self._init_dates(dates, freq)\n",
            "/usr/local/lib/python3.10/dist-packages/statsmodels/tsa/base/tsa_model.py:473: ValueWarning: An unsupported index was provided and will be ignored when e.g. forecasting.\n",
            "  self._init_dates(dates, freq)\n",
            "/usr/local/lib/python3.10/dist-packages/statsmodels/tsa/base/tsa_model.py:473: ValueWarning: An unsupported index was provided and will be ignored when e.g. forecasting.\n",
            "  self._init_dates(dates, freq)\n"
          ]
        }
      ]
    },
    {
      "cell_type": "markdown",
      "source": [
        "comments:\n",
        "- In epoch 10 the model is starting to converg becouse it has starat reached significant learned so the losses and errors have reached relatively low values, and their rate of decrease has slowed.\n",
        "- These findings indicate a successful training process, with the model learning and improving its performance over time. The steady drop in loss and error values, in the absence of significant fluctuations or spikes in validation loss, implies that the model is neither overfitting nor underfitting."
      ],
      "metadata": {
        "id": "Wl0wVRQTUqgA"
      }
    },
    {
      "cell_type": "markdown",
      "source": [
        "## 5.3. Evaluate the training model performance:\n",
        "- Forecast the validation set\n",
        "- Evaluate on the validation set R-squared to assess the accuracy and effectiveness of the model"
      ],
      "metadata": {
        "id": "kHMRPBMcUqgA"
      }
    },
    {
      "cell_type": "code",
      "source": [
        "validate_predictions = model_fit.forecast(steps=len(validate), exog=exog_vars_validate)\n",
        "\n",
        "score = sklearn.metrics.r2_score\n",
        "validate_r_squared = sklearn.metrics.r2_score(validate['Female_daily'], validate_predictions)\n",
        "print(f'Validation R-squared: {validate_r_squared}')\n"
      ],
      "metadata": {
        "colab": {
          "base_uri": "https://localhost:8080/"
        },
        "id": "l51KXVxTbO9N",
        "outputId": "cba64cd4-43d2-47d0-bc72-7e5b4d0c3989"
      },
      "execution_count": 15,
      "outputs": [
        {
          "output_type": "stream",
          "name": "stderr",
          "text": [
            "/usr/local/lib/python3.10/dist-packages/statsmodels/tsa/base/tsa_model.py:836: ValueWarning: No supported index is available. Prediction results will be given with an integer index beginning at `start`.\n",
            "  return get_prediction_index(\n",
            "/usr/local/lib/python3.10/dist-packages/statsmodels/tsa/base/tsa_model.py:836: FutureWarning: No supported index is available. In the next version, calling this method in a model without a supported index will result in an exception.\n",
            "  return get_prediction_index(\n"
          ]
        },
        {
          "output_type": "stream",
          "name": "stdout",
          "text": [
            "Validation R-squared: 0.9976920974314641\n"
          ]
        }
      ]
    },
    {
      "cell_type": "markdown",
      "source": [
        "## comment:\n",
        "Validation R-squared: 0.9976920974314641\n"
      ],
      "metadata": {
        "id": "v_vA9Q6fecbP"
      }
    },
    {
      "cell_type": "markdown",
      "source": [
        "## 5.4. ARIMA Model Evaluation:\n",
        "- Becouse the model performs well on the validation set, i will proceed to forecast the test set.\n",
        "- Evaluate on the test set R-squared to assess the accuracy and effectiveness of the model"
      ],
      "metadata": {
        "id": "VEyJSKHIcGSo"
      }
    },
    {
      "cell_type": "code",
      "source": [
        "test_predictions = model_fit.forecast(steps=len(test), exog=exog_vars_test)\n",
        "\n",
        "test_r_squared = sklearn.metrics.r2_score(test['Female_daily'], test_predictions)\n",
        "print(f'Test R-squared: {test_r_squared}')\n"
      ],
      "metadata": {
        "colab": {
          "base_uri": "https://localhost:8080/"
        },
        "id": "MQUxVvfjcDDk",
        "outputId": "bfc0d7ca-92b4-4b35-b238-67590ebc4bdd"
      },
      "execution_count": 16,
      "outputs": [
        {
          "output_type": "stream",
          "name": "stderr",
          "text": [
            "/usr/local/lib/python3.10/dist-packages/statsmodels/tsa/base/tsa_model.py:836: ValueWarning: No supported index is available. Prediction results will be given with an integer index beginning at `start`.\n",
            "  return get_prediction_index(\n",
            "/usr/local/lib/python3.10/dist-packages/statsmodels/tsa/base/tsa_model.py:836: FutureWarning: No supported index is available. In the next version, calling this method in a model without a supported index will result in an exception.\n",
            "  return get_prediction_index(\n"
          ]
        },
        {
          "output_type": "stream",
          "name": "stdout",
          "text": [
            "Test R-squared: 0.9974397625024505\n"
          ]
        }
      ]
    },
    {
      "cell_type": "markdown",
      "source": [
        "## Comment :\n",
        "Test R-squared: 0.9974397625024505"
      ],
      "metadata": {
        "id": "pEudcFyUe734"
      }
    },
    {
      "cell_type": "markdown",
      "source": [
        "##  5.5. Calculate MAE, MSE, RMSE, and R-squared\n",
        "\n",
        "- as we assuming 'test_predictions' and 'test' DataFrame's 'Female_daily' column are your predictions and actual values, respectively\n",
        "-  First, we need to convert these pandas series to numpy arrays (if not already in that format)\n",
        "- secound, Calculate MAE, MSE, RMSE, and R-squared using TensorFlow\n",
        "- then , Calculate R-squared (R²)"
      ],
      "metadata": {
        "id": "4H8OpoyffMYb"
      }
    },
    {
      "cell_type": "code",
      "source": [
        "y_test_np = test['Female_daily'].to_numpy()\n",
        "predictions_np = test_predictions.to_numpy()\n",
        "\n",
        "\n",
        "mae_value = tf.reduce_mean(tf.abs(y_test_np - predictions_np)).numpy()\n",
        "mse_value = tf.reduce_mean(tf.square(y_test_np - predictions_np)).numpy()\n",
        "rmse_value = tf.sqrt(mse_value).numpy()\n",
        "\n",
        "\n",
        "ss_res = tf.reduce_sum(tf.square(y_test_np - predictions_np))\n",
        "ss_tot = tf.reduce_sum(tf.square(y_test_np - tf.reduce_mean(y_test_np)))\n",
        "r2_value = (1 - ss_res/ss_tot).numpy()\n",
        "\n",
        "print(f'MAE: {mae_value}')\n",
        "print(f'MSE: {mse_value}')\n",
        "print(f'RMSE: {rmse_value}')\n",
        "print(f'R-squared: {r2_value}')\n"
      ],
      "metadata": {
        "colab": {
          "base_uri": "https://localhost:8080/"
        },
        "id": "zEl8a7gOjAbW",
        "outputId": "b8618ea3-06eb-429b-c885-859fbbd7a616"
      },
      "execution_count": 17,
      "outputs": [
        {
          "output_type": "stream",
          "name": "stdout",
          "text": [
            "MAE: 2.021646830555171e-06\n",
            "MSE: 6.320232339516211e-12\n",
            "RMSE: 2.5140072274192475e-06\n",
            "R-squared: 0.9974397625024505\n"
          ]
        }
      ]
    },
    {
      "cell_type": "markdown",
      "source": [
        "## comments:\n",
        "- These results indicate that the model performs well in terms of accuracy and explaining data variation and the model have a reasonable performance to predictions."
      ],
      "metadata": {
        "id": "IzaQPiN9i3Vw"
      }
    },
    {
      "cell_type": "markdown",
      "source": [
        "## comments:\n",
        "- These results indicate that the model performs well in terms of accuracy and explaining data variation and the model have a reasonable performance to predictions.\n",
        "- the results are the same in tghe test set and evaluation set."
      ],
      "metadata": {
        "id": "anPqvCQCuurb"
      }
    },
    {
      "cell_type": "markdown",
      "source": [
        "# 6. LTSM"
      ],
      "metadata": {
        "id": "1jBP1coYt0s1"
      }
    },
    {
      "cell_type": "markdown",
      "source": [
        "## 6.1. preprocessing the dataset:\n",
        "- Filter the data for age=40 choose any age for consuming the time becouse when i get all the ages\n",
        "- as i Assuming 'Total' column is what i want to forecast\n",
        "- so i will Convert the DataFrame to a numpy array and scale the values"
      ],
      "metadata": {
        "id": "mfF9WvfbmBqJ"
      }
    },
    {
      "cell_type": "code",
      "source": [
        "data_age_40 = data[data['Age'] == 40]\n",
        "\n",
        "\n",
        "scaler = sklearn.preprocessing.MinMaxScaler(feature_range=(0, 1))\n",
        "data_scaled = scaler.fit_transform(data_age_40[['Total_daily']].values)\n",
        "\n"
      ],
      "metadata": {
        "id": "G0kT3dKOtzTZ"
      },
      "execution_count": 18,
      "outputs": []
    },
    {
      "cell_type": "markdown",
      "source": [
        "## 6.2. Splitting the dataset:\n",
        "\n",
        "- Split the dataset into training and testing sets.\n"
      ],
      "metadata": {
        "id": "JQxrlUo9pIC8"
      }
    },
    {
      "cell_type": "code",
      "source": [
        "split_idx = int(len(data_scaled) * 0.8)\n",
        "train_data = data_scaled[:split_idx]\n",
        "test_data = data_scaled[split_idx:]\n"
      ],
      "metadata": {
        "id": "EC2rgSyApaB2"
      },
      "execution_count": 19,
      "outputs": []
    },
    {
      "cell_type": "markdown",
      "source": [
        "\n",
        "- Define the number of input timestamps and the prediction horizon\n",
        "- Generate time series data for training and testing"
      ],
      "metadata": {
        "id": "w8bxIaf4pkLl"
      }
    },
    {
      "cell_type": "code",
      "source": [
        "n_input = 3\n",
        "n_features = 1\n",
        "\n",
        "\n",
        "generator = keras.preprocessing.sequence.TimeseriesGenerator(train_data, train_data, length=n_input, batch_size=1)\n",
        "test_generator = keras.preprocessing.sequence.TimeseriesGenerator(test_data, test_data, length=n_input, batch_size=1)"
      ],
      "metadata": {
        "id": "APuqCnQepnCz"
      },
      "execution_count": 20,
      "outputs": []
    },
    {
      "cell_type": "markdown",
      "source": [
        "## 6.3. creating sequances\n"
      ],
      "metadata": {
        "id": "2gDpGDgzElGm"
      }
    },
    {
      "cell_type": "code",
      "source": [
        "model = keras.models.Sequential()\n",
        "# Properly referencing LSTM from keras.layers\n",
        "model.add(keras.layers.LSTM(50, activation='relu', input_shape=(n_input, n_features)))\n",
        "model.add(keras.layers.Dense(1))\n",
        "model.compile(optimizer='adam', loss='mse')\n",
        "\n",
        "model.compile(optimizer='adam', loss='mean_squared_error', metrics=['mean_absolute_error', 'mean_squared_error'])"
      ],
      "metadata": {
        "id": "7aR6eKGmARqP"
      },
      "execution_count": 21,
      "outputs": []
    },
    {
      "cell_type": "markdown",
      "source": [
        "## 6.4. Training the model\n",
        "\n",
        "---\n",
        "-  Define early stopping callback\n",
        "-  Train the model\n"
      ],
      "metadata": {
        "id": "Z3vj8FPmkfIc"
      }
    },
    {
      "cell_type": "code",
      "source": [
        "early_stopping = tensorflow.keras.callbacks.EarlyStopping(monitor='val_loss', patience=5, verbose=1)\n",
        "\n",
        "\n",
        "history = model.fit(generator, epochs=10, validation_data=test_generator, callbacks=[early_stopping], verbose=1)\n"
      ],
      "metadata": {
        "id": "2rtY2I4-9mdy",
        "colab": {
          "base_uri": "https://localhost:8080/"
        },
        "outputId": "f0afc55a-38d4-4692-8a5f-5bf98733857a"
      },
      "execution_count": 22,
      "outputs": [
        {
          "output_type": "stream",
          "name": "stdout",
          "text": [
            "Epoch 1/10\n",
            "26002/26002 [==============================] - 123s 5ms/step - loss: 4.2651e-04 - mean_absolute_error: 0.0038 - mean_squared_error: 4.2651e-04 - val_loss: 7.4313e-06 - val_mean_absolute_error: 0.0017 - val_mean_squared_error: 7.4313e-06\n",
            "Epoch 2/10\n",
            "26002/26002 [==============================] - 119s 5ms/step - loss: 2.5781e-05 - mean_absolute_error: 0.0023 - mean_squared_error: 2.5781e-05 - val_loss: 1.8635e-04 - val_mean_absolute_error: 0.0127 - val_mean_squared_error: 1.8635e-04\n",
            "Epoch 3/10\n",
            "26002/26002 [==============================] - 116s 4ms/step - loss: 1.9849e-05 - mean_absolute_error: 0.0019 - mean_squared_error: 1.9849e-05 - val_loss: 1.2067e-04 - val_mean_absolute_error: 0.0094 - val_mean_squared_error: 1.2067e-04\n",
            "Epoch 4/10\n",
            "26002/26002 [==============================] - 120s 5ms/step - loss: 1.5110e-05 - mean_absolute_error: 0.0016 - mean_squared_error: 1.5110e-05 - val_loss: 8.3556e-05 - val_mean_absolute_error: 0.0067 - val_mean_squared_error: 8.3556e-05\n",
            "Epoch 5/10\n",
            "26002/26002 [==============================] - 121s 5ms/step - loss: 1.1994e-05 - mean_absolute_error: 0.0014 - mean_squared_error: 1.1994e-05 - val_loss: 8.6648e-05 - val_mean_absolute_error: 0.0071 - val_mean_squared_error: 8.6648e-05\n",
            "Epoch 6/10\n",
            "26002/26002 [==============================] - 111s 4ms/step - loss: 9.9091e-06 - mean_absolute_error: 0.0013 - mean_squared_error: 9.9091e-06 - val_loss: 1.0695e-04 - val_mean_absolute_error: 0.0073 - val_mean_squared_error: 1.0695e-04\n",
            "Epoch 6: early stopping\n"
          ]
        }
      ]
    },
    {
      "cell_type": "markdown",
      "source": [
        "comments:\n",
        "- In epoch 6 the model is starting to converg becouse it has starat reached significant learned so the losses and errors have reached relatively low values, and their rate of decrease has slowed.\n",
        "- These findings indicate a successful training process, with the model learning and improving its performance over time. The steady drop in loss and error values, in the absence of significant fluctuations or spikes in validation loss, implies that the model is neither overfitting nor underfitting."
      ],
      "metadata": {
        "id": "rdxwGK8dYI2I"
      }
    },
    {
      "cell_type": "markdown",
      "source": [
        "6.5. Evaluate the model performance:\n",
        "- Make predictions\n",
        "- Reshape predictions and actuals to match dimensions\n",
        "- Inverse transform to get back to original scale\n",
        "- Calculate R squared score to assess the accuracy and effectiveness of the model.\n"
      ],
      "metadata": {
        "id": "Gbb02SFwh4Wh"
      }
    },
    {
      "cell_type": "code",
      "source": [
        "predictions = model.predict(test_generator)\n",
        "\n",
        "\n",
        "predictions = predictions.reshape(-1)\n",
        "actuals = test_data[n_input:].reshape(-1)\n",
        "\n",
        "\n",
        "predictions = scaler.inverse_transform(predictions.reshape(-1, 1)).flatten()\n",
        "actuals = scaler.inverse_transform(actuals.reshape(-1, 1)).flatten()\n",
        "\n",
        "\n",
        "r_squared = sklearn.metrics.r2_score(actuals, predictions)\n",
        "print(f'R-squared Score: {r_squared}')"
      ],
      "metadata": {
        "id": "OQl68LmeApdv",
        "colab": {
          "base_uri": "https://localhost:8080/"
        },
        "outputId": "d8403a14-b8d1-4bd0-a704-d6da34262b2c"
      },
      "execution_count": 23,
      "outputs": [
        {
          "output_type": "stream",
          "name": "stdout",
          "text": [
            "6499/6499 [==============================] - 16s 2ms/step\n",
            "R-squared Score: 0.9707227779375283\n"
          ]
        }
      ]
    },
    {
      "cell_type": "markdown",
      "source": [
        "## 6.6. Model Evaluatio Calculate MAE, MSE, RMSE, and R-squared\n",
        "-  Append results for the current age to the DataFrame:"
      ],
      "metadata": {
        "id": "GwDarwHXj97R"
      }
    },
    {
      "cell_type": "code",
      "source": [
        "results_data = pd.DataFrame(columns=['Age', 'R_squared', 'RMSE', 'MAE'])\n",
        "\n",
        "r_squared = sklearn.metrics.r2_score(actuals, predictions)\n",
        "mse = sklearn.metrics.mean_squared_error(actuals, predictions)\n",
        "rmse = mse ** 0.5\n",
        "mae = sklearn.metrics.mean_absolute_error(actuals, predictions)\n",
        "\n",
        "\n",
        "results_data = pd.concat([results_data, pd.DataFrame({'Age': [data_age_40], 'R_squared': [r_squared], 'RMSE': [rmse], 'MAE': [mae]})], ignore_index=True)\n",
        "\n",
        "\n",
        "\n",
        "print(f'MAE: {mae}')\n",
        "print(f'MSE: {mse}')\n",
        "print(f'RMSE: {rmse}')\n",
        "print(f'R-squared: {r_squared}')\n"
      ],
      "metadata": {
        "colab": {
          "base_uri": "https://localhost:8080/"
        },
        "id": "FMpPgEQxIS1v",
        "outputId": "13784134-d0f0-4caf-c47e-4060dede56bd"
      },
      "execution_count": 32,
      "outputs": [
        {
          "output_type": "stream",
          "name": "stdout",
          "text": [
            "MAE: 0.007323143008468679\n",
            "MSE: 0.00010694969680106317\n",
            "RMSE: 0.010341648650049138\n",
            "R-squared: 0.9707227722839397\n"
          ]
        }
      ]
    },
    {
      "cell_type": "markdown",
      "source": [
        "## comments:\n",
        "- These results indicate that the model performs well in terms of accuracy and explaining data variation and the model have a reasonable performance to predictions.\n",
        "- the results are the same in tghe test set and evaluation set."
      ],
      "metadata": {
        "id": "mCjW3pStuoa7"
      }
    },
    {
      "cell_type": "markdown",
      "source": [
        "## 7. Predictions and visualize for the best model"
      ],
      "metadata": {
        "id": "9CRc8UpwmX7r"
      }
    },
    {
      "cell_type": "code",
      "source": [
        "y_test_np = test['Female_daily'].to_numpy()\n",
        "predictions_np = test_predictions.to_numpy()"
      ],
      "metadata": {
        "id": "IC9kC_TtHj6I"
      },
      "execution_count": 33,
      "outputs": []
    },
    {
      "cell_type": "code",
      "source": [
        "# Plotting the results\n",
        "plt.figure(figsize=(12, 6))\n",
        "plt.plot(actuals, label='y_test_np')\n",
        "plt.plot(predictions, label='predictions_np', alpha=0.7)\n",
        "plt.xlabel('time')\n",
        "plt.ylabel('mortalty rates')\n",
        "plt.title('Comparison of Actuals and Predictions')\n",
        "plt.legend()\n",
        "plt.show()\n"
      ],
      "metadata": {
        "colab": {
          "base_uri": "https://localhost:8080/",
          "height": 564
        },
        "id": "uoxMqgocBr5Q",
        "outputId": "9c3734ef-d259-49ba-de66-80874b521e72"
      },
      "execution_count": 34,
      "outputs": [
        {
          "output_type": "display_data",
          "data": {
            "text/plain": [
              "<Figure size 1200x600 with 1 Axes>"
            ],
            "image/png": "[encoded data removed]"
          },
          "metadata": {}
        }
      ]
    },
    {
      "cell_type": "markdown",
      "source": [
        "## 8- Conclusion.              \n",
        "- this pipeline improved in predicting, as shown by low error metrics and a high R-squared value. The Mean Absolute Error (MAE) and Mean Squared Error (MSE) were maintained to a minimum, showing the model's prediction accuracy. The Root Mean Squared Error (RMSE) also suggested that the expected and actual values were well matched. The high R-squared value, in particular, indicates that the model was effective in capturing a considerable fraction of the variation in the data. Overall, these figures show the pipeline's success in providing trustworthy and accurate estimates."
      ],
      "metadata": {
        "id": "MiJB7wE-I2I6"
      }
    },
    {
      "cell_type": "code",
      "source": [
        "\n",
        "# Assuming 'test_generator' is your TimeseriesGenerator\n",
        "actuals = np.array([])\n",
        "for batch in test_generator:\n",
        "    actuals = np.append(actuals, batch[1])\n",
        "\n",
        "# Your existing code for predictions\n",
        "predictions = model.predict(test_generator)\n",
        "\n"
      ],
      "metadata": {
        "colab": {
          "base_uri": "https://localhost:8080/"
        },
        "id": "Ztj3WsWgzeGu",
        "outputId": "c356f3ba-c457-4ecc-8c8b-5059560bc896"
      },
      "execution_count": 28,
      "outputs": [
        {
          "output_type": "stream",
          "name": "stdout",
          "text": [
            "6499/6499 [==============================] - 35s 5ms/step\n"
          ]
        }
      ]
    }
  ]
}